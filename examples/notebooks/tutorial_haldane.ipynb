{
 "cells": [
  {
   "cell_type": "markdown",
   "metadata": {
    "pycharm": {
     "name": "#%% md\n"
    }
   },
   "source": [
    "# KITE Tutorial: configuring a system and running a calculation\n"
   ]
  },
  {
   "cell_type": "markdown",
   "metadata": {
    "pycharm": {
     "name": "#%% md\n"
    }
   },
   "source": [
    "\n",
    "Import necessary packages"
   ]
  },
  {
   "cell_type": "code",
   "execution_count": 3,
   "metadata": {
    "pycharm": {
     "name": "#%% code\n"
    }
   },
   "outputs": [],
   "source": [
    "import pybinding as pb\n",
    "import kite\n",
    "import matplotlib.pyplot as plt\n",
    "import numpy as np\n",
    "import subprocess\n",
    "\n",
    "from matplotlib import gridspec"
   ]
  },
  {
   "cell_type": "markdown",
   "metadata": {},
   "source": [
    "Define plotting style and fonts"
   ]
  },
  {
   "cell_type": "code",
   "execution_count": 4,
   "metadata": {
    "pycharm": {
     "name": "#%% code\n"
    }
   },
   "outputs": [
    {
     "name": "stderr",
     "output_type": "stream",
     "text": [
      "<ipython-input-4-9b2b187421c3>:4: MatplotlibDeprecationWarning: \n",
      "The text.latex.unicode rcparam was deprecated in Matplotlib 3.0 and will be removed in 3.2.\n",
      "  plt.rc('text.latex', unicode=True)\n"
     ]
    }
   ],
   "source": [
    "pb.pltutils.use_style()"
   ]
  },
  {
   "cell_type": "markdown",
   "metadata": {
    "pycharm": {
     "name": "#%% md\n"
    }
   },
   "source": [
    "# Haldane model\n",
    "We can define a Pybinding lattice object"
   ]
  },
  {
   "cell_type": "code",
   "execution_count": 5,
   "metadata": {
    "pycharm": {
     "name": "#%% code\n"
    }
   },
   "outputs": [],
   "source": [
    "from math import sqrt\n",
    "\n",
    "a = 0.24595  # [nm] unit cell length\n",
    "a_cc = 0.142 # [nm] carbon-carbon distance\n",
    "\n",
    "def haldane(t, t_nn, phi, delta):\n",
    "    \"\"\"Return the lattice specification for Haldane model\"\"\"\n",
    "\n",
    "    a = a_cc * sqrt(3)\n",
    "    lat = pb.Lattice(a1=[a, 0], a2=[a / 2, a / 2 * sqrt(3)])\n",
    "\n",
    "    # The next-nearest hoppings shift the Dirac point away from zero energy.\n",
    "    # This will push it back to zero for consistency with the first-nearest model.\n",
    "\n",
    "    lat.add_sublattices(\n",
    "        ('A', [0, -a_cc / 2], delta),\n",
    "        ('B', [0, a_cc / 2], -delta)\n",
    "    )\n",
    "\n",
    "    lat.add_hoppings(\n",
    "        ([0, 0], 'A', 'B', t),\n",
    "        ([1, -1], 'A', 'B', t),\n",
    "        ([0, -1], 'A', 'B', t),\n",
    "        ([0, 1], 'A', 'A', t_nn * np.exp(-1j * phi)),\n",
    "        ([0, 1], 'B', 'B', t_nn * np.exp(1j * phi)),\n",
    "        ([1, -1], 'A', 'A', t_nn * np.exp(-1j * phi)),\n",
    "        ([1, -1], 'B', 'B', t_nn * np.exp(1j * phi)),\n",
    "        ([1, 0], 'A', 'A', t_nn * np.exp(1j * phi)),\n",
    "        ([1, 0], 'B', 'B', t_nn * np.exp(-1j * phi))\n",
    "    )\n",
    "\n",
    "    return lat"
   ]
  },
  {
   "cell_type": "markdown",
   "metadata": {
    "pycharm": {
     "name": "#%% md\n"
    }
   },
   "source": [
    "And plot the lattice"
   ]
  },
  {
   "cell_type": "code",
   "execution_count": 6,
   "metadata": {
    "pycharm": {
     "name": "#%% code\n"
    }
   },
   "outputs": [
    {
     "data": {
      "image/png": "[encoded data removed]",
      "text/plain": [
       "<Figure size 432x288 with 1 Axes>"
      ]
     },
     "metadata": {
      "needs_background": "light"
     },
     "output_type": "display_data"
    }
   ],
   "source": [
    "t = 1\n",
    "t_nn = 1/3\n",
    "from math import pi\n",
    "\n",
    "lattice = haldane(t=t, t_nn=t_nn, phi=pi * 0.5, delta=2 * t_nn)\n",
    "lattice.plot()"
   ]
  },
  {
   "cell_type": "markdown",
   "metadata": {
    "pycharm": {
     "name": "#%% md\n"
    }
   },
   "source": [
    "Disorder can be added using\n",
    "``python\n",
    "  kite.Disorder(lattice)\n",
    "``\n",
    "object via"
   ]
  },
  {
   "cell_type": "code",
   "execution_count": 7,
   "metadata": {
    "pycharm": {
     "name": "#%% code\n"
    }
   },
   "outputs": [],
   "source": [
    "# add Uniformly distributed disorder\n",
    "disorder = kite.Disorder(lattice)\n",
    "dis_std = 0.4\n",
    "disorder.add_disorder('A', 'Uniform', +0.0, dis_std)\n",
    "disorder.add_disorder('B', 'Uniform', +0.0, dis_std)"
   ]
  },
  {
   "cell_type": "markdown",
   "metadata": {
    "pycharm": {
     "name": "#%% md\n"
    }
   },
   "source": [
    "KITE accepts various configuration parameters, which define how a calculation will be executed.\n",
    "For example\n",
    " * number of decomposition parts in each direction of matrix.\n",
    " * This divides the lattice into various sections, each of which is calculated in parallel"
   ]
  },
  {
   "cell_type": "code",
   "execution_count": 8,
   "metadata": {
    "pycharm": {
     "name": "#%% code\n"
    }
   },
   "outputs": [
    {
     "name": "stdout",
     "output_type": "stream",
     "text": [
      "haldane_topol_xy_dis_std_0.4_moments_512_random_1_lx_128_ly_128.h5\n",
      "##############################################################################\n",
      "#                        KITE | Release  1.0                                 #\n",
      "#                                                                            #\n",
      "#                    Kite home: quantum-kite.com                             #\n",
      "#                                                                            #\n",
      "#                                                                            #\n",
      "#                                                                            #\n",
      "#  Developed by: Simao M. Joao, Joao V. Lopes, Tatiana G. Rappoport,         #\n",
      "#                                                                            #\n",
      "#  Misa Andelkovic, Lucian Covaci, Aires Ferreira, 2018-2020                 #\n",
      "#                                                                            #\n",
      "#                                                                            #\n",
      "##############################################################################\n",
      "\n",
      "##############################################################################\n",
      "\n",
      "SCALING:\n",
      "\n",
      "\n",
      "Manual scaling is chosen. \n",
      "\n",
      "\n",
      "##############################################################################\n",
      "\n",
      "BOUNDARY CONDITIONS:\n",
      "\n",
      "\n",
      "Periodic boundary conditions along the direction of lattice vectors \n",
      "respectively are set to:  [1 1] \n",
      "\n",
      "\n",
      "##############################################################################\n",
      "\n",
      "DECOMPOSITION:\n",
      "\n",
      "\n",
      "Chosen number of decomposition parts is: [2, 2] .\n",
      "INFO: this product will correspond to the total number of threads. \n",
      "You should choose at most the number of processor cores you have.\n",
      "WARNING: System size need's to be an integer multiple of \n",
      "[TILE *  [2, 2] ] \n",
      "where TILE is selected when compiling the C++ code. \n",
      "\n",
      "\n",
      "##############################################################################\n",
      "\n",
      "OUTPUT:\n",
      "\n",
      "\n",
      "Exporting of KITE configuration to haldane_topol_xy_dis_std_0.4_moments_512_random_1_lx_128_ly_128.h5 finished.\n",
      "\n",
      "\n",
      "##############################################################################\n",
      "\n"
     ]
    }
   ],
   "source": [
    "domain_decompose_1 = 2\n",
    "domain_decompose_2 = 2\n",
    "# number of unit cells in each direction.\n",
    "lx = 128\n",
    "ly = 128\n",
    "\n",
    "num_moments = 512\n",
    "configuration = kite.Configuration(divisions=[domain_decompose_1, domain_decompose_2],\n",
    "                                   length=[lx, ly], boundaries=[True, True],\n",
    "                                   is_complex=True, precision=0, spectrum_range=[-3.8, 3.8])\n",
    "calculation = kite.Calculation(configuration)\n",
    "# kite.config_system(lattice, configuration, calculation, filename='haldane_xx.h5',\n",
    "#                    disorder=disorder)\n",
    "\n",
    "# require the calculation of DOS and conductivity_dc\n",
    "direction = 'xy'\n",
    "num_random = 1\n",
    "calculation.conductivity_dc(num_points=1000, num_moments=num_moments, num_random=num_random, num_disorder=1,\n",
    "                            direction=direction, temperature=1)\n",
    "# configure the *.h5 file\n",
    "directory = ''\n",
    "name = 'haldane_topol_{}_dis_std_{}_moments_{}_random_{}_lx_{}_ly_{}.h5'\n",
    "full_name = directory + name.format(direction, dis_std, num_moments, num_random, lx, ly)\n",
    "print(full_name)\n",
    "kite.config_system(lattice, configuration, calculation, filename=full_name, disorder=disorder)"
   ]
  },
  {
   "cell_type": "code",
   "execution_count": 10,
   "metadata": {
    "pycharm": {
     "name": "#%% code\n"
    }
   },
   "outputs": [
    {
     "name": "stdout",
     "output_type": "stream",
     "text": [
      "Time for moments calculation  6.34s\n"
     ]
    },
    {
     "data": {
      "text/plain": [
       "0"
      ]
     },
     "execution_count": 10,
     "metadata": {},
     "output_type": "execute_result"
    }
   ],
   "source": [
    "pb.utils.tic()  # measure the time\n",
    "kite.KITEx(full_name)\n",
    "pb.utils.toc('Time for moments calculation ')\n",
    "kite.KITEtools(full_name + ' --CondDC -T 50 -F -3 3 10000 -E 4000 -K green 0.01 -N condDC_{}.dat'.format(direction))\n"
   ]
  },
  {
   "cell_type": "code",
   "execution_count": null,
   "outputs": [],
   "source": [
    "condDC = np.loadtxt('condDC_xy.dat')\n",
    "cond_xy = pb.Series(condDC[:,0], condDC[:,1])\n",
    "cond_xy.plot()"
   ],
   "metadata": {
    "collapsed": false,
    "pycharm": {
     "name": "#%%\n"
    }
   }
  },
  {
   "cell_type": "code",
   "execution_count": null,
   "outputs": [],
   "source": [],
   "metadata": {
    "collapsed": false,
    "pycharm": {
     "name": "#%%\n"
    }
   }
  },
  {
   "cell_type": "code",
   "execution_count": 13,
   "metadata": {},
   "outputs": [
    {
     "data": {
      "image/png": "[encoded data removed]",
      "text/plain": [
       "<Figure size 432x288 with 1 Axes>"
      ]
     },
     "metadata": {
      "needs_background": "light"
     },
     "output_type": "display_data"
    }
   ],
   "source": []
  },
  {
   "cell_type": "code",
   "execution_count": null,
   "metadata": {},
   "outputs": [],
   "source": []
  }
 ],
 "metadata": {
  "kernelspec": {
   "display_name": "Python 3",
   "language": "python",
   "name": "python3"
  },
  "language_info": {
   "codemirror_mode": {
    "name": "ipython",
    "version": 3
   },
   "file_extension": ".py",
   "mimetype": "text/x-python",
   "name": "python",
   "nbconvert_exporter": "python",
   "pygments_lexer": "ipython3",
   "version": "3.8.3"
  }
 },
 "nbformat": 4,
 "nbformat_minor": 1
}